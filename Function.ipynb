{
 "cells": [
  {
   "cell_type": "code",
   "execution_count": null,
   "id": "e56d8fce-8d28-4a1b-b28a-16f4ec381bae",
   "metadata": {},
   "outputs": [],
   "source": [
    "import warnings\n",
    "import numpy as np\n",
    "import pandas as pd\n",
    "from sklearn.cluster import KMeans\n",
    "from sklearn.decomposition import NMF\n",
    "np.random.seed(100)\n",
    "warnings.filterwarnings(\"ignore\")"
   ]
  },
  {
   "cell_type": "code",
   "execution_count": null,
   "id": "8281301a-40ad-4a48-8715-3fc6df4fe6c3",
   "metadata": {},
   "outputs": [],
   "source": [
    "def generate_action_set(M, d):\n",
    "    \n",
    "    complete_rating = pd.read_csv('complete_ratings').values[:, 1:] / 5\n",
    " \n",
    "    model = NMF(n_components = int(np.sqrt(d)), init = 'nndsvda', max_iter = 10000)\n",
    "    W = model.fit_transform(complete_rating)\n",
    "    H = model.components_\n",
    " \n",
    "    theta_true = np.eye(int(np.sqrt(d))).ravel()\n",
    "    Theta = np.tile(theta_true, (M, 1)).T\n",
    "    Theta[:, M - 2] = np.ones(d) / np.sqrt(d)\n",
    "    Theta[:, M - 1] = np.ones(d) / np.sqrt(d)\n",
    " \n",
    "    kmeans = KMeans(n_clusters = M, random_state = 0).fit(H.T)\n",
    "    labels = kmeans.labels_\n",
    " \n",
    "    Action_list = np.empty((W.shape[0], M), dtype = object)\n",
    " \n",
    "    for t in range(W.shape[0]):\n",
    " \n",
    "        for i in range(M):\n",
    "\n",
    "            columns_cluster = np.where(labels == i)[0]\n",
    "            size = len(columns_cluster)\n",
    "            Action_list[t, i] = np.empty((size, d), dtype = float)\n",
    " \n",
    "            for ac, column_idx in enumerate(columns_cluster):\n",
    "                \n",
    "                outer = np.outer(W[t], H[:, column_idx])\n",
    "\n",
    "                if i == M - 2 or i == M - 1:\n",
    "\n",
    "                    diag_values = W[t] * H[:, column_idx]\n",
    "                    Action_list[t, i][ac] = np.tile(diag_values[:, None], (1, int(np.sqrt(d)))).ravel()\n",
    "\n",
    "                else:\n",
    "\n",
    "                    Action_list[t, i][ac] = outer.ravel\n",
    "                    \n",
    "    return Action_list, Theta"
   ]
  },
  {
   "cell_type": "code",
   "execution_count": null,
   "id": "15aed4e6-f29a-42f8-8e79-d78013b95bcd",
   "metadata": {},
   "outputs": [],
   "source": []
  }
 ],
 "metadata": {
  "kernelspec": {
   "display_name": "Python 3 (ipykernel)",
   "language": "python",
   "name": "python3"
  },
  "language_info": {
   "codemirror_mode": {
    "name": "ipython",
    "version": 3
   },
   "file_extension": ".py",
   "mimetype": "text/x-python",
   "name": "python",
   "nbconvert_exporter": "python",
   "pygments_lexer": "ipython3",
   "version": "3.8.18"
  }
 },
 "nbformat": 4,
 "nbformat_minor": 5
}
