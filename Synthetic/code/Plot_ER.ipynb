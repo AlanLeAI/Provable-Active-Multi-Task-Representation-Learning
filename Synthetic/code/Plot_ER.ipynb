{
 "cells": [
  {
   "cell_type": "code",
   "execution_count": null,
   "id": "eec15493",
   "metadata": {},
   "outputs": [],
   "source": [
    "import numpy as np\n",
    "from matplotlib import pyplot as plt\n",
    "import matplotlib.patches as mpatches\n",
    "from matplotlib.ticker import LogFormatter\n",
    "plt.rcParams.update({'pdf.fonttype': 42})"
   ]
  },
  {
   "cell_type": "code",
   "execution_count": null,
   "id": "480bf8b2",
   "metadata": {},
   "outputs": [],
   "source": [
    "def plot_ER(data, d_list, trials, epochs):\n",
    "    \n",
    "    x_value = np.array(d_list)\n",
    "    y_value = np.zeros((len(d_list), epochs))\n",
    "    \n",
    "    for i, d in enumerate(d_list):\n",
    "        \n",
    "        for T in range(trials * len(d_list)):\n",
    "            \n",
    "            if data[T][1] == d:\n",
    "                \n",
    "                y_value[i] += data[T][-1]\n",
    "                \n",
    "    y_value /= trials\n",
    "    \n",
    "    return x_value, y_value"
   ]
  },
  {
   "cell_type": "code",
   "execution_count": null,
   "id": "51a2d488",
   "metadata": {},
   "outputs": [],
   "source": [
    "# Setting parameters\n",
    "M_list = [40, 60, 80]\n",
    "epochs = 4\n",
    "trials = 100\n",
    "delta = 1e-3\n",
    "every_point = 50\n",
    "gd_iterations = [40, 40, 40]\n",
    "gd_iterations_chen = 50\n",
    "num_target_sample_value = 50"
   ]
  },
  {
   "cell_type": "code",
   "execution_count": null,
   "id": "da33cda2-0f30-4dee-8950-21859a2029e6",
   "metadata": {},
   "outputs": [],
   "source": [
    "ER_list1 = np.load('ER_list1.npy', allow_pickle=True)\n",
    "ER_list2 = np.load('ER_list2.npy', allow_pickle=True)\n",
    "ER_list3 = np.load('ER_list3.npy', allow_pickle=True)\n",
    "ER_list4 = np.load('ER_list4.npy', allow_pickle=True)\n",
    "ER_list5 = np.load('ER_list5.npy', allow_pickle=True)"
   ]
  },
  {
   "cell_type": "code",
   "execution_count": null,
   "id": "a39ac479-768b-4603-b7da-fb2f374564e4",
   "metadata": {},
   "outputs": [],
   "source": [
    "x_list, ER_list_our = plot_ER(ER_list1, M_list, trials, epochs)\n",
    "x_list, ER_list_MOM = plot_ER(ER_list2, M_list, trials, epochs)\n",
    "x_list, ER_list_chen = plot_ER(ER_list3, M_list, trials, epochs)\n",
    "x_list, ER_list_uniform = plot_ER(ER_list4, M_list, trials, epochs)\n",
    "x_list, ER_list_collins = plot_ER(ER_list5, M_list, trials, epochs)"
   ]
  },
  {
   "cell_type": "code",
   "execution_count": null,
   "id": "ec5a2f51-a7c0-4810-be78-bb95b755f4dd",
   "metadata": {},
   "outputs": [],
   "source": [
    "plt.figure(figsize=(6.4,4.8), dpi=300)\n",
    "\n",
    "plt.yscale('log')\n",
    "formatter = LogFormatter(10, labelOnlyBase=False) \n",
    "plt.gca().yaxis.set_major_formatter(formatter)\n",
    "\n",
    "patterns = ('-', 'x', '\\\\', '+', '*', 'o', 'O', '.')\n",
    "\n",
    "total_width, n = 0.8, 5\n",
    "width = total_width / n\n",
    "x_list = np.array([1, 2, 3])\n",
    "x = x_list - (total_width - width) / 2\n",
    "\n",
    "b1 = plt.bar(x, ER_list_our[:, -1],  width = width, label = 'Proposed algorithm (adaptive)', hatch = patterns[0], edgecolor='k')\n",
    "b4 = plt.bar(x + 1 * width, ER_list_uniform[:, -1], width = width, label = 'Proposed algorithm (Uniform Sampling)', hatch = patterns[1], edgecolor='k')\n",
    "b2 = plt.bar(x + 2 * width, ER_list_MOM[:, -1], width = width, label = 'Method of Moments (adaptive)', hatch = patterns[2], edgecolor='k')\n",
    "b3 = plt.bar(x + 3 * width, ER_list_chen[:, -1], width = width, label = 'Chen et al. (adaptive)', hatch = patterns[3], edgecolor='k')\n",
    "b5 = plt.bar(x + 4 * width, ER_list_collins[:, -1], width = width, label = 'Collins et al. (adaptive)', hatch = patterns[4], edgecolor='k')\n",
    "\n",
    "plt.xticks(x_list, labels = np.array(M_list))\n",
    "plt.tick_params(axis = 'both', labelsize = 15)\n",
    "\n",
    "plt.xlabel('number of tasks, M', fontsize = 15)\n",
    "plt.ylabel('excess risk, ER', fontsize = 15)\n",
    "# plt.title('synthetic data', fontsize = 15)\n",
    "\n",
    "plt.savefig('task_pattern.pdf', dpi=600, bbox_inches = 'tight')\n",
    "plt.show()\n",
    "plt.close()"
   ]
  },
  {
   "cell_type": "code",
   "execution_count": null,
   "id": "89bd2e6e",
   "metadata": {},
   "outputs": [],
   "source": []
  }
 ],
 "metadata": {
  "kernelspec": {
   "display_name": "Python 3 (ipykernel)",
   "language": "python",
   "name": "python3"
  },
  "language_info": {
   "codemirror_mode": {
    "name": "ipython",
    "version": 3
   },
   "file_extension": ".py",
   "mimetype": "text/x-python",
   "name": "python",
   "nbconvert_exporter": "python",
   "pygments_lexer": "ipython3",
   "version": "3.11.13"
  }
 },
 "nbformat": 4,
 "nbformat_minor": 5
}
