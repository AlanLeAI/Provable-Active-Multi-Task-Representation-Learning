{
 "cells": [
  {
   "cell_type": "code",
   "execution_count": null,
   "id": "eec15493",
   "metadata": {},
   "outputs": [],
   "source": [
    "import numpy as np\n",
    "import matplotlib.lines as mlines\n",
    "import matplotlib.patches as patches\n",
    "from matplotlib import pyplot as plt\n",
    "from matplotlib.ticker import LogFormatter\n",
    "np.random.seed(29)\n",
    "plt.rcParams.update({'pdf.fonttype': 42})"
   ]
  },
  {
   "cell_type": "code",
   "execution_count": null,
   "id": "480bf8b2",
   "metadata": {},
   "outputs": [],
   "source": [
    "def plot_error_gd(data, gd_iterations, trials, task):\n",
    "    \n",
    "    x_value = np.array([i for i in range(gd_iterations + 1)])\n",
    "    y_value = np.zeros(gd_iterations + 1)\n",
    "\n",
    "    for i in range(gd_iterations + 1):\n",
    "\n",
    "        for T in range(trials * 3):\n",
    "            \n",
    "            if data[T][1] == task:\n",
    "                \n",
    "                y_value[i] += data[T][-1][i]\n",
    "\n",
    "    y_value = y_value / trials\n",
    "            \n",
    "    return x_value, y_value"
   ]
  },
  {
   "cell_type": "code",
   "execution_count": null,
   "id": "95b2bd58",
   "metadata": {},
   "outputs": [],
   "source": [
    "def plot_error_gd_chen(data, gd_iterations,trials, task):\n",
    "    \n",
    "    x_value = np.array([i for i in range(gd_iterations + 1)])\n",
    "    y_value = np.zeros(gd_iterations + 1)\n",
    "    \n",
    "    for i in range(gd_iterations + 1):\n",
    "        \n",
    "        for T in range(trials * 3):\n",
    "            \n",
    "            if data[T][1] == task:\n",
    "                \n",
    "                y_value[i] += data[T][-1][-1]\n",
    "\n",
    "    y_value = y_value / trials\n",
    "            \n",
    "    return x_value, y_value"
   ]
  },
  {
   "cell_type": "code",
   "execution_count": null,
   "id": "b5b9227c",
   "metadata": {},
   "outputs": [],
   "source": [
    "def plot_error_MOM(data, gd_iterations, trials, task):\n",
    "    \n",
    "    x_value = np.array([i for i in range(gd_iterations + 1)])\n",
    "    y_value = np.zeros(gd_iterations + 1)\n",
    "\n",
    "    for i in range(gd_iterations + 1):\n",
    "\n",
    "        for T in range(trials * 3):\n",
    "            \n",
    "            if data[T][1] == task:\n",
    "                \n",
    "                y_value[i] += data[T][-1][0]\n",
    "\n",
    "    y_value = y_value / trials\n",
    "            \n",
    "    return x_value, y_value"
   ]
  },
  {
   "cell_type": "code",
   "execution_count": null,
   "id": "51a2d488",
   "metadata": {},
   "outputs": [],
   "source": [
    "# Setting parameters\n",
    "trials = 100\n",
    "task = 40\n",
    "every_point = 10\n",
    "gd_iterations = 40"
   ]
  },
  {
   "cell_type": "code",
   "execution_count": null,
   "id": "ddee6dbd",
   "metadata": {},
   "outputs": [],
   "source": [
    "gd_error_list1 = np.load('gd_error_list1.npy', allow_pickle=True)\n",
    "percentage_error_list2 = np.load('percentage_error_list2.npy', allow_pickle=True)\n",
    "gd_error_list3 = np.load('gd_error_list3.npy', allow_pickle=True)\n",
    "gd_error_list4 = np.load('gd_error_list4.npy', allow_pickle=True)\n",
    "gd_error_list5 = np.load('gd_error_list5.npy', allow_pickle=True)"
   ]
  },
  {
   "cell_type": "code",
   "execution_count": null,
   "id": "0c7025dd",
   "metadata": {},
   "outputs": [],
   "source": [
    "x_list, gd_error_list_our = plot_error_gd(gd_error_list1, gd_iterations, trials, task)\n",
    "x_list, gd_error_list_MOM = plot_error_MOM(percentage_error_list2, gd_iterations, trials, task)\n",
    "x_list, gd_error_list_chen = plot_error_gd_chen(gd_error_list3, gd_iterations, trials, task)\n",
    "x_list, gd_error_list_uniform = plot_error_gd(gd_error_list4, gd_iterations, trials, task)\n",
    "x_list, gd_error_list_collins = plot_error_gd(gd_error_list5, gd_iterations, trials, task)"
   ]
  },
  {
   "cell_type": "code",
   "execution_count": null,
   "id": "438b0975",
   "metadata": {},
   "outputs": [],
   "source": [
    "plt.figure(figsize=(12,8), dpi=300)\n",
    "\n",
    "colors = (['black', 'darkgreen', 'blue', 'red', 'darkred', 'grey'])\n",
    "markers = ['*', 'X', 'o', 's', '^', 'P']\n",
    "\n",
    "plt.rcParams['xtick.labelsize'] = 25\n",
    "plt.rcParams['ytick.labelsize'] = 25\n",
    "plt.rc('legend', fontsize = 25)\n",
    "\n",
    "plt.yscale('log')\n",
    "formatter = LogFormatter(10, labelOnlyBase=False) \n",
    "plt.gca().yaxis.set_major_formatter(formatter)\n",
    "\n",
    "plt.plot(x_list[::every_point], gd_error_list_our[::every_point], color = colors[0], linewidth=3, label = 'Proposed algorithm')\n",
    "plt.scatter(x_list[::every_point], gd_error_list_our[::every_point], marker = markers[0], color = colors[0], s=300, label = 'Proposed algorithm')\n",
    "plt.plot(x_list[::every_point], gd_error_list_MOM[::every_point], color = colors[1], linewidth=3, label = 'Method of Moments')\n",
    "plt.scatter(x_list[::every_point], gd_error_list_MOM[::every_point], marker = markers[1], color = colors[1], s=300, label = 'Method of Moments')\n",
    "plt.plot(x_list[::every_point], gd_error_list_chen[::every_point], color = colors[2], linewidth=3, label = 'Chen et al.')\n",
    "plt.scatter(x_list[::every_point], gd_error_list_chen[::every_point], marker = markers[2], color = colors[2], s=300, label = 'Chen et al.')\n",
    "plt.plot(x_list[::every_point], gd_error_list_collins[::every_point], color = colors[5], linewidth=3, label = 'Collins et al.')\n",
    "plt.scatter(x_list[::every_point], gd_error_list_collins[::every_point], marker = markers[5], color = colors[5], s=300, label = 'Collins et al.')\n",
    "\n",
    "legend_elements = [mlines.Line2D([0], [0], color=colors[0], lw = 5, label = 'Proposed algorithm', marker = markers[0], markersize = 15),\n",
    "                   mlines.Line2D([0], [0], color=colors[1], lw = 5, label = 'Method of Moments', marker = markers[1], markersize = 15), \n",
    "                   mlines.Line2D([0], [0], color=colors[2], lw = 5, label = 'Chen et al.', marker = markers[2], markersize = 15), \n",
    "                   mlines.Line2D([0], [0], color=colors[5], lw = 5, label = 'Collins et al.', marker = markers[5], markersize = 15)]\n",
    "\n",
    "# plt.grid(True)\n",
    "plt.xlabel('Round, T', fontsize=25)\n",
    "plt.ylabel(r'$\\frac{\\|\\widehat{\\Theta}_t-\\Theta^{\\star}\\|_F}{\\|\\Theta^{\\star}\\|_F}$', fontsize=40)\n",
    "plt.legend(handles=legend_elements, fontsize=20)\n",
    "plt.savefig('Synthetic error gd round.pdf', dpi=600, bbox_inches = 'tight')\n",
    "plt.show()\n",
    "plt.close()"
   ]
  },
  {
   "cell_type": "code",
   "execution_count": null,
   "id": "89bd2e6e",
   "metadata": {},
   "outputs": [],
   "source": []
  }
 ],
 "metadata": {
  "kernelspec": {
   "display_name": "Python 3 (ipykernel)",
   "language": "python",
   "name": "python3"
  },
  "language_info": {
   "codemirror_mode": {
    "name": "ipython",
    "version": 3
   },
   "file_extension": ".py",
   "mimetype": "text/x-python",
   "name": "python",
   "nbconvert_exporter": "python",
   "pygments_lexer": "ipython3",
   "version": "3.11.13"
  }
 },
 "nbformat": 4,
 "nbformat_minor": 5
}
